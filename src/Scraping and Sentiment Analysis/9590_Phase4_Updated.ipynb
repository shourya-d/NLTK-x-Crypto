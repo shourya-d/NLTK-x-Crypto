{
  "nbformat": 4,
  "nbformat_minor": 5,
  "metadata": {
    "colab": {
      "name": "9590 Phase 3 Updated 12_6.ipynb",
      "provenance": []
    },
    "kernelspec": {
      "display_name": "Python 3",
      "language": "python",
      "name": "python3"
    },
    "language_info": {
      "codemirror_mode": {
        "name": "ipython",
        "version": 3
      },
      "file_extension": ".py",
      "mimetype": "text/x-python",
      "name": "python",
      "nbconvert_exporter": "python",
      "pygments_lexer": "ipython3",
      "version": "3.7.4"
    },
    "nbTranslate": {
      "displayLangs": [
        "*"
      ],
      "hotkey": "alt-t",
      "langInMainMenu": true,
      "sourceLang": "en",
      "targetLang": "fr",
      "useGoogleTranslate": true
    },
    "toc": {
      "base_numbering": 1,
      "nav_menu": {},
      "number_sections": true,
      "sideBar": true,
      "skip_h1_title": false,
      "title_cell": "Table of Contents",
      "title_sidebar": "Contents",
      "toc_cell": false,
      "toc_position": {},
      "toc_section_display": true,
      "toc_window_display": false
    }
  },
  "cells": [
    {
      "cell_type": "code",
      "metadata": {
        "id": "7f78a51e",
        "colab": {
          "base_uri": "https://localhost:8080/"
        },
        "outputId": "973705af-6d5d-4b32-941a-c90bb8971d57"
      },
      "source": [
        "pip install tweepy"
      ],
      "id": "7f78a51e",
      "execution_count": null,
      "outputs": [
        {
          "output_type": "stream",
          "name": "stdout",
          "text": [
            "Requirement already satisfied: tweepy in /usr/local/lib/python3.7/dist-packages (3.10.0)\n",
            "Requirement already satisfied: requests-oauthlib>=0.7.0 in /usr/local/lib/python3.7/dist-packages (from tweepy) (1.3.0)\n",
            "Requirement already satisfied: requests[socks]>=2.11.1 in /usr/local/lib/python3.7/dist-packages (from tweepy) (2.23.0)\n",
            "Requirement already satisfied: six>=1.10.0 in /usr/local/lib/python3.7/dist-packages (from tweepy) (1.15.0)\n",
            "Requirement already satisfied: oauthlib>=3.0.0 in /usr/local/lib/python3.7/dist-packages (from requests-oauthlib>=0.7.0->tweepy) (3.1.1)\n",
            "Requirement already satisfied: certifi>=2017.4.17 in /usr/local/lib/python3.7/dist-packages (from requests[socks]>=2.11.1->tweepy) (2021.10.8)\n",
            "Requirement already satisfied: urllib3!=1.25.0,!=1.25.1,<1.26,>=1.21.1 in /usr/local/lib/python3.7/dist-packages (from requests[socks]>=2.11.1->tweepy) (1.24.3)\n",
            "Requirement already satisfied: idna<3,>=2.5 in /usr/local/lib/python3.7/dist-packages (from requests[socks]>=2.11.1->tweepy) (2.10)\n",
            "Requirement already satisfied: chardet<4,>=3.0.2 in /usr/local/lib/python3.7/dist-packages (from requests[socks]>=2.11.1->tweepy) (3.0.4)\n",
            "Requirement already satisfied: PySocks!=1.5.7,>=1.5.6 in /usr/local/lib/python3.7/dist-packages (from requests[socks]>=2.11.1->tweepy) (1.7.1)\n"
          ]
        }
      ]
    },
    {
      "cell_type": "code",
      "metadata": {
        "colab": {
          "base_uri": "https://localhost:8080/"
        },
        "id": "i4uWil8anubL",
        "outputId": "a4e290e5-785d-45d6-a9f3-5afefdf3e15a"
      },
      "source": [
        "pip install gspread"
      ],
      "id": "i4uWil8anubL",
      "execution_count": null,
      "outputs": [
        {
          "output_type": "stream",
          "name": "stdout",
          "text": [
            "Requirement already satisfied: gspread in /usr/local/lib/python3.7/dist-packages (3.0.1)\n",
            "Requirement already satisfied: requests>=2.2.1 in /usr/local/lib/python3.7/dist-packages (from gspread) (2.23.0)\n",
            "Requirement already satisfied: idna<3,>=2.5 in /usr/local/lib/python3.7/dist-packages (from requests>=2.2.1->gspread) (2.10)\n",
            "Requirement already satisfied: certifi>=2017.4.17 in /usr/local/lib/python3.7/dist-packages (from requests>=2.2.1->gspread) (2021.10.8)\n",
            "Requirement already satisfied: chardet<4,>=3.0.2 in /usr/local/lib/python3.7/dist-packages (from requests>=2.2.1->gspread) (3.0.4)\n",
            "Requirement already satisfied: urllib3!=1.25.0,!=1.25.1,<1.26,>=1.21.1 in /usr/local/lib/python3.7/dist-packages (from requests>=2.2.1->gspread) (1.24.3)\n"
          ]
        }
      ]
    },
    {
      "cell_type": "code",
      "metadata": {
        "id": "ef3dc633",
        "colab": {
          "base_uri": "https://localhost:8080/"
        },
        "outputId": "1543806e-b66e-4352-a1a0-f5345f625d11"
      },
      "source": [
        "pip install alpha_vantage"
      ],
      "id": "ef3dc633",
      "execution_count": null,
      "outputs": [
        {
          "output_type": "stream",
          "name": "stdout",
          "text": [
            "Collecting alpha_vantage\n",
            "  Downloading alpha_vantage-2.3.1-py3-none-any.whl (31 kB)\n",
            "Requirement already satisfied: requests in /usr/local/lib/python3.7/dist-packages (from alpha_vantage) (2.23.0)\n",
            "Collecting aiohttp\n",
            "  Downloading aiohttp-3.8.1-cp37-cp37m-manylinux_2_5_x86_64.manylinux1_x86_64.manylinux_2_12_x86_64.manylinux2010_x86_64.whl (1.1 MB)\n",
            "\u001b[K     |████████████████████████████████| 1.1 MB 8.0 MB/s \n",
            "\u001b[?25hCollecting multidict<7.0,>=4.5\n",
            "  Downloading multidict-5.2.0-cp37-cp37m-manylinux_2_5_x86_64.manylinux1_x86_64.manylinux_2_12_x86_64.manylinux2010_x86_64.whl (160 kB)\n",
            "\u001b[K     |████████████████████████████████| 160 kB 54.7 MB/s \n",
            "\u001b[?25hCollecting aiosignal>=1.1.2\n",
            "  Downloading aiosignal-1.2.0-py3-none-any.whl (8.2 kB)\n",
            "Collecting async-timeout<5.0,>=4.0.0a3\n",
            "  Downloading async_timeout-4.0.1-py3-none-any.whl (5.7 kB)\n",
            "Requirement already satisfied: charset-normalizer<3.0,>=2.0 in /usr/local/lib/python3.7/dist-packages (from aiohttp->alpha_vantage) (2.0.8)\n",
            "Collecting frozenlist>=1.1.1\n",
            "  Downloading frozenlist-1.2.0-cp37-cp37m-manylinux_2_5_x86_64.manylinux1_x86_64.manylinux_2_12_x86_64.manylinux2010_x86_64.whl (192 kB)\n",
            "\u001b[K     |████████████████████████████████| 192 kB 70.8 MB/s \n",
            "\u001b[?25hCollecting asynctest==0.13.0\n",
            "  Downloading asynctest-0.13.0-py3-none-any.whl (26 kB)\n",
            "Requirement already satisfied: typing-extensions>=3.7.4 in /usr/local/lib/python3.7/dist-packages (from aiohttp->alpha_vantage) (3.10.0.2)\n",
            "Requirement already satisfied: attrs>=17.3.0 in /usr/local/lib/python3.7/dist-packages (from aiohttp->alpha_vantage) (21.2.0)\n",
            "Collecting yarl<2.0,>=1.0\n",
            "  Downloading yarl-1.7.2-cp37-cp37m-manylinux_2_5_x86_64.manylinux1_x86_64.manylinux_2_12_x86_64.manylinux2010_x86_64.whl (271 kB)\n",
            "\u001b[K     |████████████████████████████████| 271 kB 56.7 MB/s \n",
            "\u001b[?25hRequirement already satisfied: idna>=2.0 in /usr/local/lib/python3.7/dist-packages (from yarl<2.0,>=1.0->aiohttp->alpha_vantage) (2.10)\n",
            "Requirement already satisfied: urllib3!=1.25.0,!=1.25.1,<1.26,>=1.21.1 in /usr/local/lib/python3.7/dist-packages (from requests->alpha_vantage) (1.24.3)\n",
            "Requirement already satisfied: certifi>=2017.4.17 in /usr/local/lib/python3.7/dist-packages (from requests->alpha_vantage) (2021.10.8)\n",
            "Requirement already satisfied: chardet<4,>=3.0.2 in /usr/local/lib/python3.7/dist-packages (from requests->alpha_vantage) (3.0.4)\n",
            "Installing collected packages: multidict, frozenlist, yarl, asynctest, async-timeout, aiosignal, aiohttp, alpha-vantage\n",
            "Successfully installed aiohttp-3.8.1 aiosignal-1.2.0 alpha-vantage-2.3.1 async-timeout-4.0.1 asynctest-0.13.0 frozenlist-1.2.0 multidict-5.2.0 yarl-1.7.2\n"
          ]
        }
      ]
    },
    {
      "cell_type": "code",
      "metadata": {
        "id": "b037c929",
        "colab": {
          "base_uri": "https://localhost:8080/"
        },
        "outputId": "b716e9d2-5912-47e5-be30-6d3c949babda"
      },
      "source": [
        "pip install alpha_vantage pandas"
      ],
      "id": "b037c929",
      "execution_count": null,
      "outputs": [
        {
          "output_type": "stream",
          "name": "stdout",
          "text": [
            "Requirement already satisfied: alpha_vantage in /usr/local/lib/python3.7/dist-packages (2.3.1)\n",
            "Requirement already satisfied: pandas in /usr/local/lib/python3.7/dist-packages (1.1.5)\n",
            "Requirement already satisfied: requests in /usr/local/lib/python3.7/dist-packages (from alpha_vantage) (2.23.0)\n",
            "Requirement already satisfied: aiohttp in /usr/local/lib/python3.7/dist-packages (from alpha_vantage) (3.8.1)\n",
            "Requirement already satisfied: pytz>=2017.2 in /usr/local/lib/python3.7/dist-packages (from pandas) (2018.9)\n",
            "Requirement already satisfied: numpy>=1.15.4 in /usr/local/lib/python3.7/dist-packages (from pandas) (1.19.5)\n",
            "Requirement already satisfied: python-dateutil>=2.7.3 in /usr/local/lib/python3.7/dist-packages (from pandas) (2.8.2)\n",
            "Requirement already satisfied: six>=1.5 in /usr/local/lib/python3.7/dist-packages (from python-dateutil>=2.7.3->pandas) (1.15.0)\n",
            "Requirement already satisfied: aiosignal>=1.1.2 in /usr/local/lib/python3.7/dist-packages (from aiohttp->alpha_vantage) (1.2.0)\n",
            "Requirement already satisfied: asynctest==0.13.0 in /usr/local/lib/python3.7/dist-packages (from aiohttp->alpha_vantage) (0.13.0)\n",
            "Requirement already satisfied: typing-extensions>=3.7.4 in /usr/local/lib/python3.7/dist-packages (from aiohttp->alpha_vantage) (3.10.0.2)\n",
            "Requirement already satisfied: attrs>=17.3.0 in /usr/local/lib/python3.7/dist-packages (from aiohttp->alpha_vantage) (21.2.0)\n",
            "Requirement already satisfied: multidict<7.0,>=4.5 in /usr/local/lib/python3.7/dist-packages (from aiohttp->alpha_vantage) (5.2.0)\n",
            "Requirement already satisfied: frozenlist>=1.1.1 in /usr/local/lib/python3.7/dist-packages (from aiohttp->alpha_vantage) (1.2.0)\n",
            "Requirement already satisfied: charset-normalizer<3.0,>=2.0 in /usr/local/lib/python3.7/dist-packages (from aiohttp->alpha_vantage) (2.0.8)\n",
            "Requirement already satisfied: yarl<2.0,>=1.0 in /usr/local/lib/python3.7/dist-packages (from aiohttp->alpha_vantage) (1.7.2)\n",
            "Requirement already satisfied: async-timeout<5.0,>=4.0.0a3 in /usr/local/lib/python3.7/dist-packages (from aiohttp->alpha_vantage) (4.0.1)\n",
            "Requirement already satisfied: idna>=2.0 in /usr/local/lib/python3.7/dist-packages (from yarl<2.0,>=1.0->aiohttp->alpha_vantage) (2.10)\n",
            "Requirement already satisfied: urllib3!=1.25.0,!=1.25.1,<1.26,>=1.21.1 in /usr/local/lib/python3.7/dist-packages (from requests->alpha_vantage) (1.24.3)\n",
            "Requirement already satisfied: chardet<4,>=3.0.2 in /usr/local/lib/python3.7/dist-packages (from requests->alpha_vantage) (3.0.4)\n",
            "Requirement already satisfied: certifi>=2017.4.17 in /usr/local/lib/python3.7/dist-packages (from requests->alpha_vantage) (2021.10.8)\n"
          ]
        }
      ]
    },
    {
      "cell_type": "code",
      "metadata": {
        "id": "fed1b071",
        "colab": {
          "base_uri": "https://localhost:8080/"
        },
        "outputId": "879f4ab6-efe7-435f-a269-dc637586abdd"
      },
      "source": [
        "pip install vaderSentiment"
      ],
      "id": "fed1b071",
      "execution_count": null,
      "outputs": [
        {
          "output_type": "stream",
          "name": "stdout",
          "text": [
            "Collecting vaderSentiment\n",
            "  Downloading vaderSentiment-3.3.2-py2.py3-none-any.whl (125 kB)\n",
            "\u001b[?25l\r\u001b[K     |██▋                             | 10 kB 21.0 MB/s eta 0:00:01\r\u001b[K     |█████▏                          | 20 kB 15.7 MB/s eta 0:00:01\r\u001b[K     |███████▉                        | 30 kB 10.9 MB/s eta 0:00:01\r\u001b[K     |██████████▍                     | 40 kB 8.8 MB/s eta 0:00:01\r\u001b[K     |█████████████                   | 51 kB 5.3 MB/s eta 0:00:01\r\u001b[K     |███████████████▋                | 61 kB 5.5 MB/s eta 0:00:01\r\u001b[K     |██████████████████▏             | 71 kB 5.4 MB/s eta 0:00:01\r\u001b[K     |████████████████████▉           | 81 kB 6.0 MB/s eta 0:00:01\r\u001b[K     |███████████████████████▍        | 92 kB 6.1 MB/s eta 0:00:01\r\u001b[K     |██████████████████████████      | 102 kB 5.1 MB/s eta 0:00:01\r\u001b[K     |████████████████████████████▋   | 112 kB 5.1 MB/s eta 0:00:01\r\u001b[K     |███████████████████████████████▏| 122 kB 5.1 MB/s eta 0:00:01\r\u001b[K     |████████████████████████████████| 125 kB 5.1 MB/s \n",
            "\u001b[?25hRequirement already satisfied: requests in /usr/local/lib/python3.7/dist-packages (from vaderSentiment) (2.23.0)\n",
            "Requirement already satisfied: certifi>=2017.4.17 in /usr/local/lib/python3.7/dist-packages (from requests->vaderSentiment) (2021.10.8)\n",
            "Requirement already satisfied: chardet<4,>=3.0.2 in /usr/local/lib/python3.7/dist-packages (from requests->vaderSentiment) (3.0.4)\n",
            "Requirement already satisfied: idna<3,>=2.5 in /usr/local/lib/python3.7/dist-packages (from requests->vaderSentiment) (2.10)\n",
            "Requirement already satisfied: urllib3!=1.25.0,!=1.25.1,<1.26,>=1.21.1 in /usr/local/lib/python3.7/dist-packages (from requests->vaderSentiment) (1.24.3)\n",
            "Installing collected packages: vaderSentiment\n",
            "Successfully installed vaderSentiment-3.3.2\n"
          ]
        }
      ]
    },
    {
      "cell_type": "code",
      "metadata": {
        "colab": {
          "base_uri": "https://localhost:8080/",
          "height": 762
        },
        "id": "n4UtjOdjn6UW",
        "outputId": "e737a324-6c03-410e-9e24-972911d6f0d2"
      },
      "source": [
        "pip install df2gspread"
      ],
      "id": "n4UtjOdjn6UW",
      "execution_count": null,
      "outputs": [
        {
          "output_type": "stream",
          "name": "stdout",
          "text": [
            "Collecting df2gspread\n",
            "  Downloading df2gspread-1.0.4.tar.gz (11 kB)\n",
            "Collecting argparse>=1.3.0\n",
            "  Downloading argparse-1.4.0-py2.py3-none-any.whl (23 kB)\n",
            "Collecting google-api-python-client==1.6.7\n",
            "  Downloading google_api_python_client-1.6.7-py2.py3-none-any.whl (56 kB)\n",
            "\u001b[K     |████████████████████████████████| 56 kB 2.3 MB/s \n",
            "\u001b[?25hRequirement already satisfied: gspread>=2.1.1 in /usr/local/lib/python3.7/dist-packages (from df2gspread) (3.0.1)\n",
            "Requirement already satisfied: oauth2client<5.0.0dev,>=1.5.0 in /usr/local/lib/python3.7/dist-packages (from df2gspread) (4.1.3)\n",
            "Requirement already satisfied: pandas in /usr/local/lib/python3.7/dist-packages (from df2gspread) (1.1.5)\n",
            "Requirement already satisfied: httplib2<1dev,>=0.9.2 in /usr/local/lib/python3.7/dist-packages (from google-api-python-client==1.6.7->df2gspread) (0.17.4)\n",
            "Requirement already satisfied: six<2dev,>=1.6.1 in /usr/local/lib/python3.7/dist-packages (from google-api-python-client==1.6.7->df2gspread) (1.15.0)\n",
            "Requirement already satisfied: uritemplate<4dev,>=3.0.0 in /usr/local/lib/python3.7/dist-packages (from google-api-python-client==1.6.7->df2gspread) (3.0.1)\n",
            "Requirement already satisfied: requests>=2.2.1 in /usr/local/lib/python3.7/dist-packages (from gspread>=2.1.1->df2gspread) (2.23.0)\n",
            "Requirement already satisfied: pyasn1>=0.1.7 in /usr/local/lib/python3.7/dist-packages (from oauth2client<5.0.0dev,>=1.5.0->df2gspread) (0.4.8)\n",
            "Requirement already satisfied: pyasn1-modules>=0.0.5 in /usr/local/lib/python3.7/dist-packages (from oauth2client<5.0.0dev,>=1.5.0->df2gspread) (0.2.8)\n",
            "Requirement already satisfied: rsa>=3.1.4 in /usr/local/lib/python3.7/dist-packages (from oauth2client<5.0.0dev,>=1.5.0->df2gspread) (4.8)\n",
            "Requirement already satisfied: chardet<4,>=3.0.2 in /usr/local/lib/python3.7/dist-packages (from requests>=2.2.1->gspread>=2.1.1->df2gspread) (3.0.4)\n",
            "Requirement already satisfied: idna<3,>=2.5 in /usr/local/lib/python3.7/dist-packages (from requests>=2.2.1->gspread>=2.1.1->df2gspread) (2.10)\n",
            "Requirement already satisfied: urllib3!=1.25.0,!=1.25.1,<1.26,>=1.21.1 in /usr/local/lib/python3.7/dist-packages (from requests>=2.2.1->gspread>=2.1.1->df2gspread) (1.24.3)\n",
            "Requirement already satisfied: certifi>=2017.4.17 in /usr/local/lib/python3.7/dist-packages (from requests>=2.2.1->gspread>=2.1.1->df2gspread) (2021.10.8)\n",
            "Requirement already satisfied: python-dateutil>=2.7.3 in /usr/local/lib/python3.7/dist-packages (from pandas->df2gspread) (2.8.2)\n",
            "Requirement already satisfied: pytz>=2017.2 in /usr/local/lib/python3.7/dist-packages (from pandas->df2gspread) (2018.9)\n",
            "Requirement already satisfied: numpy>=1.15.4 in /usr/local/lib/python3.7/dist-packages (from pandas->df2gspread) (1.19.5)\n",
            "Building wheels for collected packages: df2gspread\n",
            "  Building wheel for df2gspread (setup.py) ... \u001b[?25l\u001b[?25hdone\n",
            "  Created wheel for df2gspread: filename=df2gspread-1.0.4-py3-none-any.whl size=11952 sha256=3c00e8f21c017ac9931aef049cc03a6da677a3556062247205594876a844c709\n",
            "  Stored in directory: /root/.cache/pip/wheels/4d/78/20/cf9a2810f93885ad71bd351c8b604455ba160ac4b0e9b7d526\n",
            "Successfully built df2gspread\n",
            "Installing collected packages: google-api-python-client, argparse, df2gspread\n",
            "  Attempting uninstall: google-api-python-client\n",
            "    Found existing installation: google-api-python-client 1.12.8\n",
            "    Uninstalling google-api-python-client-1.12.8:\n",
            "      Successfully uninstalled google-api-python-client-1.12.8\n",
            "\u001b[31mERROR: pip's dependency resolver does not currently take into account all the packages that are installed. This behaviour is the source of the following dependency conflicts.\n",
            "firebase-admin 4.4.0 requires google-api-python-client>=1.7.8, but you have google-api-python-client 1.6.7 which is incompatible.\n",
            "earthengine-api 0.1.290 requires google-api-python-client<2,>=1.12.1, but you have google-api-python-client 1.6.7 which is incompatible.\u001b[0m\n",
            "Successfully installed argparse-1.4.0 df2gspread-1.0.4 google-api-python-client-1.6.7\n"
          ]
        },
        {
          "output_type": "display_data",
          "data": {
            "application/vnd.colab-display-data+json": {
              "pip_warning": {
                "packages": [
                  "argparse"
                ]
              }
            }
          },
          "metadata": {}
        }
      ]
    },
    {
      "cell_type": "code",
      "metadata": {
        "id": "80f06fd2"
      },
      "source": [
        "import json\n",
        "import csv\n",
        "import tweepy\n",
        "import re\n",
        "import pandas as pd\n",
        "from vaderSentiment.vaderSentiment import SentimentIntensityAnalyzer\n",
        "from alpha_vantage.cryptocurrencies import CryptoCurrencies\n",
        "import matplotlib.pyplot as plt\n",
        "\n"
      ],
      "id": "80f06fd2",
      "execution_count": null,
      "outputs": []
    },
    {
      "cell_type": "code",
      "metadata": {
        "id": "3B8cnB28kuxU"
      },
      "source": [
        "import gspread\n",
        "from oauth2client.service_account import ServiceAccountCredentials\n",
        "from df2gspread import df2gspread as d2g"
      ],
      "id": "3B8cnB28kuxU",
      "execution_count": null,
      "outputs": []
    },
    {
      "cell_type": "code",
      "metadata": {
        "id": "y0gOEEnykuxU",
        "colab": {
          "base_uri": "https://localhost:8080/",
          "height": 356
        },
        "outputId": "4a7deb06-9a78-4603-bdb2-b55334ce6b3e"
      },
      "source": [
        "scope = ['https://spreadsheets.google.com/feeds',\n",
        " 'https://www.googleapis.com/auth/drive']\n",
        "credentials = ServiceAccountCredentials.from_json_keyfile_name(\n",
        " 'myfile.json', scopes=scope)\n",
        "gc = gspread.authorize(credentials)\n",
        "spreadsheet_key='1cLkhGp8bbwBGzLt5x51SxQhAfc_s9HNzheweOjz5TAY'\n",
        "                  "
      ],
      "id": "y0gOEEnykuxU",
      "execution_count": null,
      "outputs": [
        {
          "output_type": "error",
          "ename": "FileNotFoundError",
          "evalue": "ignored",
          "traceback": [
            "\u001b[0;31m---------------------------------------------------------------------------\u001b[0m",
            "\u001b[0;31mFileNotFoundError\u001b[0m                         Traceback (most recent call last)",
            "\u001b[0;32m<ipython-input-12-05d16f4529b3>\u001b[0m in \u001b[0;36m<module>\u001b[0;34m()\u001b[0m\n\u001b[1;32m      2\u001b[0m  'https://www.googleapis.com/auth/drive']\n\u001b[1;32m      3\u001b[0m credentials = ServiceAccountCredentials.from_json_keyfile_name(\n\u001b[0;32m----> 4\u001b[0;31m  'myfile.json', scopes=scope)\n\u001b[0m\u001b[1;32m      5\u001b[0m \u001b[0mgc\u001b[0m \u001b[0;34m=\u001b[0m \u001b[0mgspread\u001b[0m\u001b[0;34m.\u001b[0m\u001b[0mauthorize\u001b[0m\u001b[0;34m(\u001b[0m\u001b[0mcredentials\u001b[0m\u001b[0;34m)\u001b[0m\u001b[0;34m\u001b[0m\u001b[0;34m\u001b[0m\u001b[0m\n\u001b[1;32m      6\u001b[0m \u001b[0mspreadsheet_key\u001b[0m\u001b[0;34m=\u001b[0m\u001b[0;34m'1cLkhGp8bbwBGzLt5x51SxQhAfc_s9HNzheweOjz5TAY'\u001b[0m\u001b[0;34m\u001b[0m\u001b[0;34m\u001b[0m\u001b[0m\n",
            "\u001b[0;32m/usr/local/lib/python3.7/dist-packages/oauth2client/service_account.py\u001b[0m in \u001b[0;36mfrom_json_keyfile_name\u001b[0;34m(cls, filename, scopes, token_uri, revoke_uri)\u001b[0m\n\u001b[1;32m    217\u001b[0m                 \u001b[0mthe\u001b[0m \u001b[0mkeyfile\u001b[0m\u001b[0;34m.\u001b[0m\u001b[0;34m\u001b[0m\u001b[0;34m\u001b[0m\u001b[0m\n\u001b[1;32m    218\u001b[0m         \"\"\"\n\u001b[0;32m--> 219\u001b[0;31m         \u001b[0;32mwith\u001b[0m \u001b[0mopen\u001b[0m\u001b[0;34m(\u001b[0m\u001b[0mfilename\u001b[0m\u001b[0;34m,\u001b[0m \u001b[0;34m'r'\u001b[0m\u001b[0;34m)\u001b[0m \u001b[0;32mas\u001b[0m \u001b[0mfile_obj\u001b[0m\u001b[0;34m:\u001b[0m\u001b[0;34m\u001b[0m\u001b[0;34m\u001b[0m\u001b[0m\n\u001b[0m\u001b[1;32m    220\u001b[0m             \u001b[0mclient_credentials\u001b[0m \u001b[0;34m=\u001b[0m \u001b[0mjson\u001b[0m\u001b[0;34m.\u001b[0m\u001b[0mload\u001b[0m\u001b[0;34m(\u001b[0m\u001b[0mfile_obj\u001b[0m\u001b[0;34m)\u001b[0m\u001b[0;34m\u001b[0m\u001b[0;34m\u001b[0m\u001b[0m\n\u001b[1;32m    221\u001b[0m         return cls._from_parsed_json_keyfile(client_credentials, scopes,\n",
            "\u001b[0;31mFileNotFoundError\u001b[0m: [Errno 2] No such file or directory: 'myfile.json'"
          ]
        }
      ]
    },
    {
      "cell_type": "code",
      "metadata": {
        "id": "c1f575e8"
      },
      "source": [
        "def search_for_hashtags(consumer_key, consumer_secret, access_token, access_token_secret, hashtag_phrase):\n",
        "    \n",
        "    #create an authorization for accessing Twitter (aka tell the program we have permission to do what we're doing)\n",
        "    auth = tweepy.OAuthHandler(consumer_key, consumer_secret)\n",
        "    auth.set_access_token(access_token, access_token_secret)\n",
        "\n",
        "    #initialize Tweepy API\n",
        "    api = tweepy.API(auth)\n",
        "    \n",
        "    #make the name of the spreadsheet we will write to\n",
        "    #it will be named whatever we search\n",
        "    fname = '_'.join(re.findall(r\"#(\\w+)\", hashtag_phrase))\n",
        "\n",
        "    #open the spreadsheet we will write to\n",
        "    with open('%s.csv' % (fname), 'w', encoding='utf-8') as file:\n",
        "\n",
        "        w = csv.writer(file)\n",
        "\n",
        "        #write header row to spreadsheet\n",
        "        w.writerow(['timestamp', 'tweet_text', 'username', 'all_hashtags', 'followers_count'])\n",
        "\n",
        "        #for each tweet matching our hashtags, write relevant info to the spreadsheet\n",
        "        #max we can pull is 500,000 tweets a month; I have it set to 100\n",
        "        for tweet in tweepy.Cursor(api.search_tweets, q=hashtag_phrase+' -filter:retweets', \\\n",
        "                                   lang=\"en\", tweet_mode='extended').items(500):\n",
        "            w.writerow([tweet.created_at, tweet.full_text.replace('\\n',' ').encode('utf-8'), tweet.user.screen_name.encode('utf-8'), [e['text'] for e in tweet._json['entities']['hashtags']], tweet.user.followers_count])\n",
        "\n",
        "#this creates input boxes where you will input your keys given to you by twitter\n",
        "consumer_key = \"mSkxrXIQ518i4vp1uFOhs5x5B\"\n",
        "consumer_secret = \"dl2rgfOJ5GSda986YRb2G7DZowoZ1gOsngF4o0Tjyh5JQK3Wqk\"\n",
        "access_token = \"1121504781309071360-i8aQst3qQGxZxxRYb6nWCfOmuSSQqP\"\n",
        "access_token_secret = \"ELXtJnx8LoKXCqBQw31rIqU9ExdHUlkbM9c9kmK6pnT80\"\n",
        "\n",
        "hashtag_phrase = \"#MATIC\"\n",
        "#hashtag_phrase = input('Hashtag Phrase ') #you'll enter your search terms in the form \"#xyz\" ; use logical operators AND/OR\n",
        "\n",
        "if __name__ == '__main__':\n",
        "    search_for_hashtags(consumer_key, consumer_secret, access_token, access_token_secret, hashtag_phrase)"
      ],
      "id": "c1f575e8",
      "execution_count": null,
      "outputs": []
    },
    {
      "cell_type": "code",
      "metadata": {
        "id": "eba66c50",
        "outputId": "5b1d76e7-39a5-4187-dc4f-a968579cb218"
      },
      "source": [
        "#sentiment analysis\n",
        "data = pd.read_csv('MATIC.csv',\n",
        "                   encoding='ISO 8859-1', error_bad_lines=False)\n",
        "\n",
        "data=pd.DataFrame(data)\n",
        "\n",
        "print (data[:10])"
      ],
      "id": "eba66c50",
      "execution_count": null,
      "outputs": [
        {
          "name": "stdout",
          "output_type": "stream",
          "text": [
            "                   timestamp  \\\n",
            "0  2021-12-06 13:34:01+00:00   \n",
            "1  2021-12-06 13:33:08+00:00   \n",
            "2  2021-12-06 13:33:06+00:00   \n",
            "3  2021-12-06 13:32:37+00:00   \n",
            "4  2021-12-06 13:32:26+00:00   \n",
            "5  2021-12-06 13:31:49+00:00   \n",
            "6  2021-12-06 13:31:23+00:00   \n",
            "7  2021-12-06 13:31:23+00:00   \n",
            "8  2021-12-06 13:30:53+00:00   \n",
            "9  2021-12-06 13:30:48+00:00   \n",
            "\n",
            "                                          tweet_text            username  \\\n",
            "0  b'The Polygon chain is the new frontier.  Meet...  b'PancakeBunnyFin'   \n",
            "1  b'@airdropinspect Very good project @jook9009 ...    b'sayed79653911'   \n",
            "2  b'\\xf0\\x9f\\x94\\xa5\"One of the primary tactics ...  b'berlin_samurai2'   \n",
            "3  b'\"One way to keep momentum going is to have c...  b'berlin_samurai2'   \n",
            "4  b'\"Only I can change my life. No one can do it...  b'berlin_samurai2'   \n",
            "5  b'\"Optimism is the one quality associated with...  b'berlin_samurai2'   \n",
            "6  b\"@SheeshaFinance_ @StarterXyz It's really nic...       b'BijoyHa111'   \n",
            "7  b'\\xe2\\x9c\\x92Outstanding people have one thin...  b'berlin_samurai2'   \n",
            "8  b'If you want to trade cryptocurrency convenie...         b'MaxMak85'   \n",
            "9  b'@airdropinspect Good project for New Members...  b'Muhamma27380791'   \n",
            "\n",
            "                                        all_hashtags  followers_count  \n",
            "0  ['BSC', 'BNB', 'BTC', 'ETH', 'DOGE', 'MATIC', ...           160113  \n",
            "1  ['Airdrop', 'Airdrops', 'Airdropinspector', 'M...               27  \n",
            "2  ['Bitcoin', 'BNB', 'ETH', 'MXS', 'RBXSamurai',...              929  \n",
            "3  ['MXS', 'BTC', 'BNB', 'ETH', 'MXS', 'trend', '...              929  \n",
            "4  ['MXSamurai', 'BNB', 'doge', 'Ethereum', 'Bitc...              929  \n",
            "5  ['MXS', 'MXSamurai', 'BTC', 'BNB', 'ADA', 'ETH...              929  \n",
            "6  ['DeFi', 'MATIC', 'Crypto', 'msheesha', 'Shees...              105  \n",
            "7  ['MXS', 'BTC', 'BNB', 'ADA', 'ETH', 'CMC', 'MO...              929  \n",
            "8  ['BTC', 'eth', 'DeFi', 'trading', 'Crypto', 'd...              143  \n",
            "9  ['Airdrop', 'Airdrops', 'Matic', 'AAGVentures'...               22  \n"
          ]
        }
      ]
    },
    {
      "cell_type": "code",
      "metadata": {
        "id": "3265844a",
        "outputId": "6e9ebdc1-08ed-4f1b-91cb-a4d4ecb26f91"
      },
      "source": [
        "#select comment and listing_id columns.\n",
        "tweet_data = data[\"tweet_text\"]\n",
        "print (tweet_data[:50])\n",
        "\n"
      ],
      "id": "3265844a",
      "execution_count": null,
      "outputs": [
        {
          "name": "stdout",
          "output_type": "stream",
          "text": [
            "0     b'The Polygon chain is the new frontier.  Meet...\n",
            "1     b'@airdropinspect Very good project @jook9009 ...\n",
            "2     b'\\xf0\\x9f\\x94\\xa5\"One of the primary tactics ...\n",
            "3     b'\"One way to keep momentum going is to have c...\n",
            "4     b'\"Only I can change my life. No one can do it...\n",
            "5     b'\"Optimism is the one quality associated with...\n",
            "6     b\"@SheeshaFinance_ @StarterXyz It's really nic...\n",
            "7     b'\\xe2\\x9c\\x92Outstanding people have one thin...\n",
            "8     b'If you want to trade cryptocurrency convenie...\n",
            "9     b'@airdropinspect Good project for New Members...\n",
            "10    b'@airdropinspect Great project for crypto ass...\n",
            "11    b'5.28% profit of $MATIC-USD: My target is to ...\n",
            "12    b'https://t.co/d7ee6TrnkX \\xf0\\x9f\\x91\\x8d Dom...\n",
            "13    b'STAY AWAY FROM #CRYPTO What the public now s...\n",
            "14    b'\\xf0\\x9f\\x91\\x8b  #NFTFriends! This pumpkin ...\n",
            "15    b'If crypto was an ice cream this morning woul...\n",
            "16    b'The move this week is #lrc #CRO #MATIC for s...\n",
            "17    b'@airdropinspect This is a mega project ever ...\n",
            "18    b'\\xf0\\x9f\\xa6\\x8d\\xf0\\x9f\\xa6\\x8d\\xf0\\x9f\\x94...\n",
            "19    b'@nftgallery_art VeXiL|Reconstruction V3  \\xf...\n",
            "20    b\"@airdropinspect Fantastic project with great...\n",
            "21    b'Attention matic holders!! The polygon mainne...\n",
            "22    b'@airdropinspect good project, hopefully in t...\n",
            "23    b'@airdropinspect I believe this is a faithful...\n",
            "24    b\"#Ethereum UPDATE!\\xf0\\x9f\\x9a\\x80 Looking to...\n",
            "25    b'Top \\xf0\\x9f\\x94\\x9f PERFORMING cryptocurren...\n",
            "26    b'Get crypto-taxation done right! Automated tr...\n",
            "27    b'#MATIC Matic is aimming for 2.2,  moving in ...\n",
            "28    b'@SheeshaFinance_ @StarterXyz Wow sir This is...\n",
            "29    b'@StarterXyz @SheeshaFinance_ Wow sir This is...\n",
            "30    b'#OpenSeaNFT #nftcollector #NFTartist #NFTGem...\n",
            "31    b'@SheeshaFinance_ @StarterXyz Wow sir This is...\n",
            "32    b'@cryptogems555 same bullish af with #EverRis...\n",
            "33    b'Do you have crypto taxes to calculate? We at...\n",
            "34    b\"#Bitcoin UPDATE! As we can see, we are still...\n",
            "35    b'@krakenfx #matic and #hero are in the radar....\n",
            "36    b'#Matic is about to announce something Big #E...\n",
            "37    b'DELEGATE_DONT_HATE has just sent its voters ...\n",
            "38    b'12. #MATIC - Buy %: 58 - Sell %: 42 - AVG Ho...\n",
            "39    b'This is a very good company. I want this com...\n",
            "40    b'@MoralisWeb3 This project will go much furth...\n",
            "41    b'Very strong project and has a unique develop...\n",
            "42    b'You should discover @mstrade, if you want to...\n",
            "43    b'@airdropinspect Mind blowing and very Strong...\n",
            "44    b'@SerkanArikan06 @Masumislam39 @Akemi_007 @cr...\n",
            "45    b'@RoboWolf8 @rose_finance This project will g...\n",
            "46    b'Sekuritance was a #Axion #Launchpad partner....\n",
            "47    b'New Art John Miles only 0.01ETH !!  #NFTs  #...\n",
            "48    b'@RoboWolf8 @mbah_mijan @Scaary_Games This pr...\n",
            "49    b'New Art John Miles only 0.01ETH !!  #NFTs  #...\n",
            "Name: tweet_text, dtype: object\n"
          ]
        }
      ]
    },
    {
      "cell_type": "code",
      "metadata": {
        "id": "95a0af76",
        "outputId": "1913e9c2-79c5-4e51-8052-bfc3b2c11910"
      },
      "source": [
        "#remove other non-words and characters\n",
        "def clean(string):\n",
        "    string = re.sub('<br/>', '', string)\n",
        "    string = re.sub('&quot', '', string)\n",
        "    string = re.sub('&amp', '', string)\n",
        "    string = re.sub('\\\"', '', string)\n",
        "    string = re.sub('https?\\?S+', '', string)\n",
        "    string = re.sub('\\S+@\\S+', '', string)\n",
        "    string = re.sub('((www\\.[^\\s]+)|(https?://[^\\s]+))', ' ', string)\n",
        "    string = re.sub('&\\w+;', '', string)\n",
        "    string = re.sub('\\d+', '',string)\n",
        "    string = re.sub('\\b\\w{1,2}\\b', '', string)\n",
        "    string = re.sub(\"b'\", '', string)\n",
        "    string = re.sub(\"'\", '', string)\n",
        "    string = re.sub(\"x*\", '', string)\n",
        "    string = re.sub(\"\\\\\\\\\", '', string)\n",
        "    #remove tabs, new lines, white spaces and replace those with sing spaces\n",
        "    string = re.sub('\\s+',' ',string)\n",
        "    return string\n",
        "#excute the above define function.\n",
        "tweet_data = tweet_data.apply(clean)\n",
        "print (tweet_data[20:50])"
      ],
      "id": "95a0af76",
      "execution_count": null,
      "outputs": [
        {
          "name": "stdout",
          "output_type": "stream",
          "text": [
            "20     Fantastic project with great potential. The t...\n",
            "21    Attention matic holders!! The polygon mainnet ...\n",
            "22     good project, hopefully in the future it can ...\n",
            "23     I believe this is a faithful project.The proj...\n",
            "24    b#Ethereum UPDATE!a Looking to break the desce...\n",
            "25    Top PERFORMING cryptocurrency this hour . $ETH...\n",
            "26    Get crypto-taation done right! Automated trans...\n",
            "27    #MATIC Matic is aimming for ., moving in the r...\n",
            "28     @StarterXyz Wow sir This is very strong proje...\n",
            "29     @SheeshaFinance_ Wow sir This is very strong ...\n",
            "30    #OpenSeaNFT #nftcollector #NFTartist #NFTGem #...\n",
            "31     @StarterXyz Wow sir This is very strong proje...\n",
            "32     same bullish af with #EverRiseV #MATIC #ETH #...\n",
            "33    Do you have crypto tas to calculate? We at #Ca...\n",
            "34    b#Bitcoin UPDATE! As we can see, we are still ...\n",
            "35     #matic and #hero are in the radar. What do yo...\n",
            "36    #Matic is about to announce something Big #Eth...\n",
            "37    DELEGATE_DONT_HATE has just sent its voters a ...\n",
            "38    . #MATIC - Buy %: - Sell %: - AVG Hold: Days ....\n",
            "39    This is a very good company. I want this compa...\n",
            "40     This project will go much further in the futu...\n",
            "41    Very strong project and has a unique developme...\n",
            "42    You should discover @mstrade, if you want to t...\n",
            "43     Mind blowing and very Strong projects aaaa Fa...\n",
            "44     @Masumislam @Akemi_ @cryptomasterusa This is ...\n",
            "45     @rose_finance This project will go much furth...\n",
            "46    Sekuritance was a #Aion #Launchpad partner. St...\n",
            "47    New Art John Miles only .ETH !! #NFTs #nftcoll...\n",
            "48     @mbah_mijan @Scaary_Games This project will g...\n",
            "49    New Art John Miles only .ETH !! #NFTs #nftcoll...\n",
            "Name: tweet_text, dtype: object\n"
          ]
        }
      ]
    },
    {
      "cell_type": "code",
      "metadata": {
        "id": "c49489b3"
      },
      "source": [
        "#sentiment/polarity & subjectivity using VADER.\n",
        "\n",
        "analyser = SentimentIntensityAnalyzer()\n",
        "\n",
        "def sentiment_analyzer_scores(sentence):\n",
        "    return analyser.polarity_scores(sentence)"
      ],
      "id": "c49489b3",
      "execution_count": null,
      "outputs": []
    },
    {
      "cell_type": "code",
      "metadata": {
        "id": "0d96fda5",
        "outputId": "bdf843e5-15c8-4187-bea4-b5dc2ff43e05"
      },
      "source": [
        "#pass through the data.\n",
        "tweet_data['vader_polarity'] = tweet_data.apply(sentiment_analyzer_scores)\n",
        "print (tweet_data[:10])"
      ],
      "id": "0d96fda5",
      "execution_count": null,
      "outputs": [
        {
          "name": "stdout",
          "output_type": "stream",
          "text": [
            "0    The Polygon chain is the new frontier. Meet us...\n",
            "1     Very good project @jook @mekh @Aya @hoor_elga...\n",
            "2    aOne of the primary tactics for enduring winni...\n",
            "3    One way to keep momentum going is to have cons...\n",
            "4    Only I can change my life. No one can do it fo...\n",
            "5    Optimism is the one quality associated with su...\n",
            "6     @StarterXyz Its really nice project and very ...\n",
            "7    cOutstanding people have one thing in common: ...\n",
            "8    If you want to trade cryptocurrency convenient...\n",
            "9     Good project for New Members its looking for ...\n",
            "Name: tweet_text, dtype: object\n"
          ]
        }
      ]
    },
    {
      "cell_type": "code",
      "metadata": {
        "id": "7f801b11",
        "outputId": "13e6fa10-8957-4918-838a-844d7cc8a4e2"
      },
      "source": [
        "#call out each key as a separate column.\n",
        "tweet_data['compound']  = tweet_data['vader_polarity'].apply(lambda score_dict: score_dict['compound'])\n",
        "tweet_data['neg']  = tweet_data['vader_polarity'].apply(lambda score_dict: score_dict['neg'])\n",
        "tweet_data['neu']  = tweet_data['vader_polarity'].apply(lambda score_dict: score_dict['neu'])\n",
        "tweet_data['pos']  = tweet_data['vader_polarity'].apply(lambda score_dict: score_dict['pos'])\n",
        "print (tweet_data['pos'][:5],tweet_data['neu'][:5],tweet_data['neg'][:5],tweet_data['compound'][:5])"
      ],
      "id": "7f801b11",
      "execution_count": null,
      "outputs": [
        {
          "name": "stdout",
          "output_type": "stream",
          "text": [
            "0    0.070\n",
            "1    0.166\n",
            "2    0.129\n",
            "3    0.137\n",
            "4    0.000\n",
            "Name: tweet_text, dtype: float64 0    0.930\n",
            "1    0.834\n",
            "2    0.871\n",
            "3    0.863\n",
            "4    0.937\n",
            "Name: tweet_text, dtype: float64 0    0.000\n",
            "1    0.000\n",
            "2    0.000\n",
            "3    0.000\n",
            "4    0.062\n",
            "Name: tweet_text, dtype: float64 0    0.5106\n",
            "1    0.4927\n",
            "2    0.5267\n",
            "3    0.6597\n",
            "4   -0.2960\n",
            "Name: tweet_text, dtype: float64\n"
          ]
        }
      ]
    },
    {
      "cell_type": "code",
      "metadata": {
        "id": "30beab59",
        "outputId": "a8cf43b3-2d27-4c4c-f937-80c20d099702"
      },
      "source": [
        "data_final=pd.DataFrame(tweet_data)\n",
        "print (data_final.shape)\n",
        "data_final['pos']=tweet_data['pos']\n",
        "data_final['neu']=tweet_data['neu']\n",
        "data_final['neg']=tweet_data['neg']\n",
        "data_final['compound']=tweet_data['compound']\n",
        "\n",
        "print (data_final.shape)\n",
        "print (data_final[:50])"
      ],
      "id": "30beab59",
      "execution_count": null,
      "outputs": [
        {
          "name": "stdout",
          "output_type": "stream",
          "text": [
            "(505, 1)\n",
            "(505, 5)\n",
            "                                           tweet_text    pos    neu    neg  \\\n",
            "0   The Polygon chain is the new frontier. Meet us...  0.070  0.930  0.000   \n",
            "1    Very good project @jook @mekh @Aya @hoor_elga...  0.166  0.834  0.000   \n",
            "2   aOne of the primary tactics for enduring winni...  0.129  0.871  0.000   \n",
            "3   One way to keep momentum going is to have cons...  0.137  0.863  0.000   \n",
            "4   Only I can change my life. No one can do it fo...  0.000  0.937  0.062   \n",
            "5   Optimism is the one quality associated with su...  0.265  0.735  0.000   \n",
            "6    @StarterXyz Its really nice project and very ...  0.371  0.629  0.000   \n",
            "7   cOutstanding people have one thing in common: ...  0.000  1.000  0.000   \n",
            "8   If you want to trade cryptocurrency convenient...  0.035  0.965  0.000   \n",
            "9    Good project for New Members its looking for ...  0.225  0.775  0.000   \n",
            "10   Great project for crypto assets and I really ...  0.405  0.562  0.033   \n",
            "11  .% profit of $MATIC-USD: My target is to buy M...  0.068  0.932  0.000   \n",
            "12   d Domain Listed For Sale #BTCca #Bitcoinca #E...  0.000  1.000  0.000   \n",
            "13  STAY AWAY FROM #CRYPTO What the public now see...  0.094  0.906  0.000   \n",
            "14  b #NFTFriends! This pumpkin is looking for a #...  0.000  0.923  0.077   \n",
            "15  If crypto was an ice cream this morning would ...  0.000  1.000  0.000   \n",
            "16  The move this week is #lrc #CRO #MATIC for som...  0.278  0.722  0.000   \n",
            "17   This is a mega project ever @RTErdogan @Asli_...  0.000  1.000  0.000   \n",
            "18  adadbb Price . #nft #nfts #collection #collect...  0.000  0.904  0.096   \n",
            "19   VeXiL|Reconstruction V aac Antigua and Barbud...  0.000  1.000  0.000   \n",
            "20   Fantastic project with great potential. The t...  0.328  0.628  0.044   \n",
            "21  Attention matic holders!! The polygon mainnet ...  0.162  0.838  0.000   \n",
            "22   good project, hopefully in the future it can ...  0.288  0.712  0.000   \n",
            "23   I believe this is a faithful project.The proj...  0.251  0.749  0.000   \n",
            "24  b#Ethereum UPDATE!a Looking to break the desce...  0.194  0.806  0.000   \n",
            "25  Top PERFORMING cryptocurrency this hour . $ETH...  0.038  0.962  0.000   \n",
            "26  Get crypto-taation done right! Automated trans...  0.000  0.929  0.071   \n",
            "27  #MATIC Matic is aimming for ., moving in the r...  0.077  0.799  0.124   \n",
            "28   @StarterXyz Wow sir This is very strong proje...  0.364  0.636  0.000   \n",
            "29   @SheeshaFinance_ Wow sir This is very strong ...  0.364  0.636  0.000   \n",
            "30  #OpenSeaNFT #nftcollector #NFTartist #NFTGem #...  0.000  1.000  0.000   \n",
            "31   @StarterXyz Wow sir This is very strong proje...  0.364  0.636  0.000   \n",
            "32   same bullish af with #EverRiseV #MATIC #ETH #...  0.000  1.000  0.000   \n",
            "33  Do you have crypto tas to calculate? We at #Ca...  0.000  1.000  0.000   \n",
            "34  b#Bitcoin UPDATE! As we can see, we are still ...  0.064  0.850  0.086   \n",
            "35   #matic and #hero are in the radar. What do yo...  0.231  0.769  0.000   \n",
            "36  #Matic is about to announce something Big #Eth...  0.118  0.882  0.000   \n",
            "37  DELEGATE_DONT_HATE has just sent its voters a ...  0.000  1.000  0.000   \n",
            "38  . #MATIC - Buy %: - Sell %: - AVG Hold: Days ....  0.000  1.000  0.000   \n",
            "39  This is a very good company. I want this compa...  0.270  0.730  0.000   \n",
            "40   This project will go much further in the futu...  0.091  0.909  0.000   \n",
            "41  Very strong project and has a unique developme...  0.209  0.791  0.000   \n",
            "42  You should discover @mstrade, if you want to t...  0.269  0.731  0.000   \n",
            "43   Mind blowing and very Strong projects aaaa Fa...  0.208  0.792  0.000   \n",
            "44   @Masumislam @Akemi_ @cryptomasterusa This is ...  0.355  0.645  0.000   \n",
            "45   @rose_finance This project will go much furth...  0.089  0.911  0.000   \n",
            "46  Sekuritance was a #Aion #Launchpad partner. St...  0.182  0.818  0.000   \n",
            "47  New Art John Miles only .ETH !! #NFTs #nftcoll...  0.000  1.000  0.000   \n",
            "48   @mbah_mijan @Scaary_Games This project will g...  0.086  0.914  0.000   \n",
            "49  New Art John Miles only .ETH !! #NFTs #nftcoll...  0.000  1.000  0.000   \n",
            "\n",
            "    compound  \n",
            "0     0.5106  \n",
            "1     0.4927  \n",
            "2     0.5267  \n",
            "3     0.6597  \n",
            "4    -0.2960  \n",
            "5     0.8957  \n",
            "6     0.9669  \n",
            "7     0.0000  \n",
            "8     0.0772  \n",
            "9     0.7003  \n",
            "10    0.9422  \n",
            "11    0.4404  \n",
            "12    0.0000  \n",
            "13    0.5766  \n",
            "14   -0.4724  \n",
            "15    0.0000  \n",
            "16    0.8402  \n",
            "17    0.0000  \n",
            "18   -0.2023  \n",
            "19    0.0000  \n",
            "20    0.9274  \n",
            "21    0.7753  \n",
            "22    0.8655  \n",
            "23    0.9020  \n",
            "24    0.8713  \n",
            "25    0.2023  \n",
            "26   -0.3164  \n",
            "27   -0.1779  \n",
            "28    0.9484  \n",
            "29    0.9484  \n",
            "30    0.0000  \n",
            "31    0.9484  \n",
            "32    0.0000  \n",
            "33    0.0000  \n",
            "34   -0.2942  \n",
            "35    0.5574  \n",
            "36    0.7096  \n",
            "37    0.0000  \n",
            "38    0.0000  \n",
            "39    0.7501  \n",
            "40    0.5563  \n",
            "41    0.8016  \n",
            "42    0.9117  \n",
            "43    0.6997  \n",
            "44    0.9477  \n",
            "45    0.5563  \n",
            "46    0.5994  \n",
            "47    0.0000  \n",
            "48    0.5563  \n",
            "49    0.0000  \n"
          ]
        }
      ]
    },
    {
      "cell_type": "code",
      "metadata": {
        "id": "33825bdd"
      },
      "source": [
        "#visualize sentiment"
      ],
      "id": "33825bdd",
      "execution_count": null,
      "outputs": []
    },
    {
      "cell_type": "code",
      "metadata": {
        "id": "5f932266",
        "outputId": "bd07c57d-4591-497e-a4bf-0b506c6c7cfc"
      },
      "source": [
        "#price\n",
        "cc = CryptoCurrencies(key='6C3I4PGVGFIK0B2K', output_format='pandas')\n",
        "data, meta_data = cc.get_digital_currency_daily(symbol='MATIC', market='USD')\n",
        "data['4b. close (USD)'].plot()\n",
        "plt.tight_layout()\n",
        "plt.title('Daily close value for Matic (MATIC)')\n",
        "plt.grid()\n",
        "plt.show()"
      ],
      "id": "5f932266",
      "execution_count": null,
      "outputs": [
        {
          "data": {
            "image/png": "[encoded data removed]",
            "text/plain": [
              "<Figure size 432x288 with 1 Axes>"
            ]
          },
          "metadata": {
            "needs_background": "light"
          },
          "output_type": "display_data"
        }
      ]
    },
    {
      "cell_type": "code",
      "metadata": {
        "id": "71aab99c",
        "outputId": "df704cfa-5094-4678-851e-8577501953d1"
      },
      "source": [
        "wks_name= \"Sheet1\"\n",
        "d2g.upload(data_final, spreadsheet_key, wks_name, credentials=credentials, row_names=True)\n",
        "print(\"Data upload success\")"
      ],
      "id": "71aab99c",
      "execution_count": null,
      "outputs": [
        {
          "name": "stdout",
          "output_type": "stream",
          "text": [
            "Data upload success\n"
          ]
        }
      ]
    }
  ]
}